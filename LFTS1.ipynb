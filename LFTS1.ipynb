{
 "cells": [
  {
   "cell_type": "code",
   "execution_count": 2,
   "metadata": {
    "collapsed": true
   },
   "outputs": [],
   "source": [
    "import pandas as pd\n",
    "import numpy as np\n",
    "import matplotlib.pyplot as plt\n",
    "import seaborn as sns\n",
    "%matplotlib inline\n",
    "from sklearn.ensemble import RandomForestClassifier, GradientBoostingClassifier\n",
    "from xgboost import XGBClassifier\n",
    "from catboost import CatBoostClassifier\n",
    "from sklearn.metrics import roc_auc_score, classification_report, confusion_matrix, accuracy_score, f1_score\n",
    "from sklearn.model_selection import StratifiedKFold, KFold, train_test_split"
   ]
  },
  {
   "cell_type": "code",
   "execution_count": 3,
   "metadata": {
    "collapsed": true
   },
   "outputs": [],
   "source": [
    "data = pd.read_csv('train_1.csv')\n",
    "test_data = pd.read_csv('test_1.csv')"
   ]
  },
  {
   "cell_type": "code",
   "execution_count": 4,
   "metadata": {
    "collapsed": true
   },
   "outputs": [],
   "source": [
    "sub = pd.read_csv('sample_submission_24jSKY6.csv')"
   ]
  },
  {
   "cell_type": "code",
   "execution_count": 5,
   "metadata": {
    "collapsed": false
   },
   "outputs": [
    {
     "data": {
      "text/html": [
       "<div>\n",
       "<table border=\"1\" class=\"dataframe\">\n",
       "  <thead>\n",
       "    <tr style=\"text-align: right;\">\n",
       "      <th></th>\n",
       "      <th>UniqueID</th>\n",
       "      <th>loan_default</th>\n",
       "    </tr>\n",
       "  </thead>\n",
       "  <tbody>\n",
       "    <tr>\n",
       "      <th>0</th>\n",
       "      <td>655269</td>\n",
       "      <td>0</td>\n",
       "    </tr>\n",
       "    <tr>\n",
       "      <th>1</th>\n",
       "      <td>723482</td>\n",
       "      <td>0</td>\n",
       "    </tr>\n",
       "    <tr>\n",
       "      <th>2</th>\n",
       "      <td>758529</td>\n",
       "      <td>0</td>\n",
       "    </tr>\n",
       "    <tr>\n",
       "      <th>3</th>\n",
       "      <td>763449</td>\n",
       "      <td>0</td>\n",
       "    </tr>\n",
       "    <tr>\n",
       "      <th>4</th>\n",
       "      <td>708663</td>\n",
       "      <td>0</td>\n",
       "    </tr>\n",
       "  </tbody>\n",
       "</table>\n",
       "</div>"
      ],
      "text/plain": [
       "   UniqueID  loan_default\n",
       "0    655269             0\n",
       "1    723482             0\n",
       "2    758529             0\n",
       "3    763449             0\n",
       "4    708663             0"
      ]
     },
     "execution_count": 5,
     "metadata": {},
     "output_type": "execute_result"
    }
   ],
   "source": [
    "sub.head()"
   ]
  },
  {
   "cell_type": "code",
   "execution_count": 6,
   "metadata": {
    "collapsed": true
   },
   "outputs": [],
   "source": [
    "test_id = sub['UniqueID']"
   ]
  },
  {
   "cell_type": "code",
   "execution_count": 7,
   "metadata": {
    "collapsed": false
   },
   "outputs": [
    {
     "data": {
      "text/plain": [
       "112392"
      ]
     },
     "execution_count": 7,
     "metadata": {},
     "output_type": "execute_result"
    }
   ],
   "source": [
    "len(test_data)"
   ]
  },
  {
   "cell_type": "code",
   "execution_count": 8,
   "metadata": {
    "collapsed": false
   },
   "outputs": [
    {
     "data": {
      "text/html": [
       "<div>\n",
       "<table border=\"1\" class=\"dataframe\">\n",
       "  <thead>\n",
       "    <tr style=\"text-align: right;\">\n",
       "      <th></th>\n",
       "      <th>disbursed_amount</th>\n",
       "      <th>asset_cost</th>\n",
       "      <th>ltv</th>\n",
       "      <th>branch_id</th>\n",
       "      <th>supplier_id</th>\n",
       "      <th>manufacturer_id</th>\n",
       "      <th>Current_pincode_ID</th>\n",
       "      <th>State_ID</th>\n",
       "      <th>Employee_code_ID</th>\n",
       "      <th>Aadhar_flag</th>\n",
       "      <th>...</th>\n",
       "      <th>CREDIT.HISTORY.LENGTH</th>\n",
       "      <th>NO.OF_INQUIRIES</th>\n",
       "      <th>loan_default</th>\n",
       "      <th>age</th>\n",
       "      <th>d.o.b</th>\n",
       "      <th>m.o.b</th>\n",
       "      <th>ds.o.b</th>\n",
       "      <th>cred</th>\n",
       "      <th>Employment.Type_Salaried</th>\n",
       "      <th>Employment.Type_Self employed</th>\n",
       "    </tr>\n",
       "  </thead>\n",
       "  <tbody>\n",
       "    <tr>\n",
       "      <th>0</th>\n",
       "      <td>50578</td>\n",
       "      <td>58400</td>\n",
       "      <td>89.55</td>\n",
       "      <td>67</td>\n",
       "      <td>22807</td>\n",
       "      <td>45</td>\n",
       "      <td>1441</td>\n",
       "      <td>6</td>\n",
       "      <td>1998</td>\n",
       "      <td>1</td>\n",
       "      <td>...</td>\n",
       "      <td>1</td>\n",
       "      <td>0</td>\n",
       "      <td>0</td>\n",
       "      <td>35.0</td>\n",
       "      <td>8</td>\n",
       "      <td>3</td>\n",
       "      <td>3</td>\n",
       "      <td>1</td>\n",
       "      <td>1</td>\n",
       "      <td>0</td>\n",
       "    </tr>\n",
       "    <tr>\n",
       "      <th>1</th>\n",
       "      <td>47145</td>\n",
       "      <td>65550</td>\n",
       "      <td>73.23</td>\n",
       "      <td>67</td>\n",
       "      <td>22807</td>\n",
       "      <td>45</td>\n",
       "      <td>1502</td>\n",
       "      <td>6</td>\n",
       "      <td>1998</td>\n",
       "      <td>1</td>\n",
       "      <td>...</td>\n",
       "      <td>0</td>\n",
       "      <td>0</td>\n",
       "      <td>1</td>\n",
       "      <td>33.0</td>\n",
       "      <td>26</td>\n",
       "      <td>9</td>\n",
       "      <td>2</td>\n",
       "      <td>1</td>\n",
       "      <td>0</td>\n",
       "      <td>1</td>\n",
       "    </tr>\n",
       "    <tr>\n",
       "      <th>2</th>\n",
       "      <td>53278</td>\n",
       "      <td>61360</td>\n",
       "      <td>89.63</td>\n",
       "      <td>67</td>\n",
       "      <td>22807</td>\n",
       "      <td>45</td>\n",
       "      <td>1497</td>\n",
       "      <td>6</td>\n",
       "      <td>1998</td>\n",
       "      <td>1</td>\n",
       "      <td>...</td>\n",
       "      <td>1</td>\n",
       "      <td>0</td>\n",
       "      <td>0</td>\n",
       "      <td>33.0</td>\n",
       "      <td>8</td>\n",
       "      <td>1</td>\n",
       "      <td>0</td>\n",
       "      <td>1</td>\n",
       "      <td>0</td>\n",
       "      <td>1</td>\n",
       "    </tr>\n",
       "    <tr>\n",
       "      <th>3</th>\n",
       "      <td>57513</td>\n",
       "      <td>66113</td>\n",
       "      <td>88.48</td>\n",
       "      <td>67</td>\n",
       "      <td>22807</td>\n",
       "      <td>45</td>\n",
       "      <td>1501</td>\n",
       "      <td>6</td>\n",
       "      <td>1998</td>\n",
       "      <td>1</td>\n",
       "      <td>...</td>\n",
       "      <td>0</td>\n",
       "      <td>1</td>\n",
       "      <td>1</td>\n",
       "      <td>25.0</td>\n",
       "      <td>26</td>\n",
       "      <td>10</td>\n",
       "      <td>4</td>\n",
       "      <td>1</td>\n",
       "      <td>0</td>\n",
       "      <td>1</td>\n",
       "    </tr>\n",
       "    <tr>\n",
       "      <th>4</th>\n",
       "      <td>52378</td>\n",
       "      <td>60300</td>\n",
       "      <td>88.39</td>\n",
       "      <td>67</td>\n",
       "      <td>22807</td>\n",
       "      <td>45</td>\n",
       "      <td>1495</td>\n",
       "      <td>6</td>\n",
       "      <td>1998</td>\n",
       "      <td>1</td>\n",
       "      <td>...</td>\n",
       "      <td>1</td>\n",
       "      <td>1</td>\n",
       "      <td>1</td>\n",
       "      <td>41.0</td>\n",
       "      <td>26</td>\n",
       "      <td>9</td>\n",
       "      <td>2</td>\n",
       "      <td>1</td>\n",
       "      <td>0</td>\n",
       "      <td>1</td>\n",
       "    </tr>\n",
       "  </tbody>\n",
       "</table>\n",
       "<p>5 rows × 42 columns</p>\n",
       "</div>"
      ],
      "text/plain": [
       "   disbursed_amount  asset_cost    ltv  branch_id  supplier_id  \\\n",
       "0             50578       58400  89.55         67        22807   \n",
       "1             47145       65550  73.23         67        22807   \n",
       "2             53278       61360  89.63         67        22807   \n",
       "3             57513       66113  88.48         67        22807   \n",
       "4             52378       60300  88.39         67        22807   \n",
       "\n",
       "   manufacturer_id  Current_pincode_ID  State_ID  Employee_code_ID  \\\n",
       "0               45                1441         6              1998   \n",
       "1               45                1502         6              1998   \n",
       "2               45                1497         6              1998   \n",
       "3               45                1501         6              1998   \n",
       "4               45                1495         6              1998   \n",
       "\n",
       "   Aadhar_flag              ...                CREDIT.HISTORY.LENGTH  \\\n",
       "0            1              ...                                    1   \n",
       "1            1              ...                                    0   \n",
       "2            1              ...                                    1   \n",
       "3            1              ...                                    0   \n",
       "4            1              ...                                    1   \n",
       "\n",
       "   NO.OF_INQUIRIES  loan_default   age  d.o.b  m.o.b  ds.o.b  cred  \\\n",
       "0                0             0  35.0      8      3       3     1   \n",
       "1                0             1  33.0     26      9       2     1   \n",
       "2                0             0  33.0      8      1       0     1   \n",
       "3                1             1  25.0     26     10       4     1   \n",
       "4                1             1  41.0     26      9       2     1   \n",
       "\n",
       "   Employment.Type_Salaried  Employment.Type_Self employed  \n",
       "0                         1                              0  \n",
       "1                         0                              1  \n",
       "2                         0                              1  \n",
       "3                         0                              1  \n",
       "4                         0                              1  \n",
       "\n",
       "[5 rows x 42 columns]"
      ]
     },
     "execution_count": 8,
     "metadata": {},
     "output_type": "execute_result"
    }
   ],
   "source": [
    "data.head()"
   ]
  },
  {
   "cell_type": "code",
   "execution_count": 51,
   "metadata": {
    "collapsed": false
   },
   "outputs": [
    {
     "data": {
      "text/plain": [
       "3270"
      ]
     },
     "execution_count": 51,
     "metadata": {},
     "output_type": "execute_result"
    }
   ],
   "source": [
    "data['Employee_code_ID'].nunique()"
   ]
  },
  {
   "cell_type": "markdown",
   "metadata": {},
   "source": [
    "# FE"
   ]
  },
  {
   "cell_type": "code",
   "execution_count": 10,
   "metadata": {
    "collapsed": true
   },
   "outputs": [],
   "source": [
    "data['A_d'] = (data['asset_cost'] / data['disbursed_amount']) * data['ltv']\n",
    "# for test set\n",
    "test_data['A_d'] = (test_data['asset_cost'] / test_data['disbursed_amount']) * test_data['ltv']"
   ]
  },
  {
   "cell_type": "code",
   "execution_count": 11,
   "metadata": {
    "collapsed": true
   },
   "outputs": [],
   "source": [
    "data['As_di'] = data['asset_cost'] - data['disbursed_amount']\n",
    "# for test set\n",
    "test_data['As_di'] = test_data['asset_cost'] - test_data['disbursed_amount']"
   ]
  },
  {
   "cell_type": "code",
   "execution_count": 12,
   "metadata": {
    "collapsed": true
   },
   "outputs": [],
   "source": [
    "data['As_age'] = data['ltv'] * data['age']\n",
    "# for test set\n",
    "test_data['As_age'] = test_data['ltv'] * test_data['age']"
   ]
  },
  {
   "cell_type": "code",
   "execution_count": 13,
   "metadata": {
    "collapsed": true
   },
   "outputs": [],
   "source": [
    "data['PRI.ACTIVE.ACCTS'] = [0 if values == 0 else 1 for values in data['PRI.ACTIVE.ACCTS']]\n",
    "# for test set\n",
    "test_data['PRI.ACTIVE.ACCTS'] = [0 if values == 0 else 1 for values in test_data['PRI.ACTIVE.ACCTS']]"
   ]
  },
  {
   "cell_type": "code",
   "execution_count": 14,
   "metadata": {
    "collapsed": true
   },
   "outputs": [],
   "source": [
    "data['SEC.ACTIVE.ACCTS'] = [0 if values == 0 else 1 for values in data['SEC.ACTIVE.ACCTS']]\n",
    "# for test set\n",
    "test_data['SEC.ACTIVE.ACCTS'] = [0 if values == 0 else 1 for values in test_data['SEC.ACTIVE.ACCTS']]"
   ]
  },
  {
   "cell_type": "code",
   "execution_count": 15,
   "metadata": {
    "collapsed": true
   },
   "outputs": [],
   "source": [
    "data['sec_pri'] = data['SEC.ACTIVE.ACCTS'] * data['PRI.ACTIVE.ACCTS']\n",
    "# for test set\n",
    "test_data['As_di'] = test_data['SEC.ACTIVE.ACCTS'] * test_data['PRI.ACTIVE.ACCTS']"
   ]
  },
  {
   "cell_type": "code",
   "execution_count": 29,
   "metadata": {
    "collapsed": true
   },
   "outputs": [],
   "source": [
    "test_data['sec_pri'] = test_data['SEC.ACTIVE.ACCTS'] * test_data['PRI.ACTIVE.ACCTS']"
   ]
  },
  {
   "cell_type": "code",
   "execution_count": 54,
   "metadata": {
    "collapsed": true
   },
   "outputs": [],
   "source": [
    "data['mean_pincode_ass'] = data['Current_pincode_ID'].map(data.groupby('Current_pincode_ID')['asset_cost'].mean())\n",
    "test_data['mean_pincode_ass'] = test_data['Current_pincode_ID'].map(test_data.groupby('Current_pincode_ID')['asset_cost'].mean())"
   ]
  },
  {
   "cell_type": "code",
   "execution_count": 55,
   "metadata": {
    "collapsed": true
   },
   "outputs": [],
   "source": [
    "data['mean_state_ass'] = data['State_ID'].map(data.groupby('State_ID')['asset_cost'].mean())\n",
    "test_data['mean_state_ass'] = test_data['State_ID'].map(test_data.groupby('State_ID')['asset_cost'].mean())"
   ]
  },
  {
   "cell_type": "code",
   "execution_count": 56,
   "metadata": {
    "collapsed": true
   },
   "outputs": [],
   "source": [
    "data['mean_supply_ass'] = data['supplier_id'].map(data.groupby('supplier_id')['asset_cost'].mean())\n",
    "test_data['mean_supply_ass'] = test_data['supplier_id'].map(test_data.groupby('supplier_id')['asset_cost'].mean())"
   ]
  },
  {
   "cell_type": "code",
   "execution_count": 57,
   "metadata": {
    "collapsed": true
   },
   "outputs": [],
   "source": [
    "data['mean_man_ass'] = data['manufacturer_id'].map(data.groupby('manufacturer_id')['asset_cost'].mean())\n",
    "test_data['mean_man_ass'] = test_data['manufacturer_id'].map(test_data.groupby('manufacturer_id')['asset_cost'].mean())"
   ]
  },
  {
   "cell_type": "code",
   "execution_count": 58,
   "metadata": {
    "collapsed": true
   },
   "outputs": [],
   "source": [
    "data['mean_bra_ass'] = data['branch_id'].map(data.groupby('branch_id')['asset_cost'].mean())\n",
    "test_data['mean_bra_ass'] = test_data['branch_id'].map(test_data.groupby('branch_id')['asset_cost'].mean())"
   ]
  },
  {
   "cell_type": "code",
   "execution_count": 59,
   "metadata": {
    "collapsed": true
   },
   "outputs": [],
   "source": [
    "data['mean_emp_ass'] = data['Employee_code_ID'].map(data.groupby('Employee_code_ID')['asset_cost'].mean())\n",
    "test_data['mean_emp_ass'] = test_data['Employee_code_ID'].map(test_data.groupby('Employee_code_ID')['asset_cost'].mean())"
   ]
  },
  {
   "cell_type": "code",
   "execution_count": null,
   "metadata": {
    "collapsed": true
   },
   "outputs": [],
   "source": []
  },
  {
   "cell_type": "code",
   "execution_count": null,
   "metadata": {
    "collapsed": true
   },
   "outputs": [],
   "source": []
  },
  {
   "cell_type": "code",
   "execution_count": null,
   "metadata": {
    "collapsed": true
   },
   "outputs": [],
   "source": []
  },
  {
   "cell_type": "code",
   "execution_count": 16,
   "metadata": {
    "collapsed": false
   },
   "outputs": [],
   "source": [
    "data['mean_pincode'] = data['Current_pincode_ID'].map(data.groupby('Current_pincode_ID')['ltv'].mean())\n",
    "test_data['mean_pincode'] = test_data['Current_pincode_ID'].map(test_data.groupby('Current_pincode_ID')['ltv'].mean())"
   ]
  },
  {
   "cell_type": "code",
   "execution_count": 17,
   "metadata": {
    "collapsed": true
   },
   "outputs": [],
   "source": [
    "data['mean_pincode_dis'] = data['Current_pincode_ID'].map(data.groupby('Current_pincode_ID')['disbursed_amount'].mean())\n",
    "test_data['mean_pincode_dis'] = test_data['Current_pincode_ID'].map(test_data.groupby('Current_pincode_ID')['disbursed_amount'].mean())"
   ]
  },
  {
   "cell_type": "code",
   "execution_count": 18,
   "metadata": {
    "collapsed": true
   },
   "outputs": [],
   "source": [
    "data['mean_state'] = data['State_ID'].map(data.groupby('State_ID')['ltv'].mean())\n",
    "test_data['mean_state'] = test_data['State_ID'].map(test_data.groupby('State_ID')['ltv'].mean())"
   ]
  },
  {
   "cell_type": "code",
   "execution_count": 19,
   "metadata": {
    "collapsed": true
   },
   "outputs": [],
   "source": [
    "data['mean_state_dis'] = data['State_ID'].map(data.groupby('State_ID')['disbursed_amount'].mean())\n",
    "test_data['mean_state_dis'] = test_data['State_ID'].map(test_data.groupby('State_ID')['disbursed_amount'].mean())"
   ]
  },
  {
   "cell_type": "code",
   "execution_count": 43,
   "metadata": {
    "collapsed": false
   },
   "outputs": [],
   "source": [
    "data['mean_supply_dis'] = data['supplier_id'].map(data.groupby('supplier_id')['disbursed_amount'].mean())\n",
    "test_data['mean_supply_dis'] = test_data['supplier_id'].map(test_data.groupby('supplier_id')['disbursed_amount'].mean())"
   ]
  },
  {
   "cell_type": "code",
   "execution_count": 44,
   "metadata": {
    "collapsed": true
   },
   "outputs": [],
   "source": [
    "data['mean_supply_ltv'] = data['supplier_id'].map(data.groupby('supplier_id')['ltv'].mean())\n",
    "test_data['mean_supply_ltv'] = test_data['supplier_id'].map(test_data.groupby('supplier_id')['ltv'].mean())"
   ]
  },
  {
   "cell_type": "code",
   "execution_count": 46,
   "metadata": {
    "collapsed": false
   },
   "outputs": [],
   "source": [
    "data['mean_man_dis'] = data['manufacturer_id'].map(data.groupby('manufacturer_id')['disbursed_amount'].mean())\n",
    "test_data['mean_man_dis'] = test_data['manufacturer_id'].map(test_data.groupby('manufacturer_id')['disbursed_amount'].mean())"
   ]
  },
  {
   "cell_type": "code",
   "execution_count": 47,
   "metadata": {
    "collapsed": true
   },
   "outputs": [],
   "source": [
    "data['mean_man_ltv'] = data['manufacturer_id'].map(data.groupby('manufacturer_id')['ltv'].mean())\n",
    "test_data['mean_man_ltv'] = test_data['manufacturer_id'].map(test_data.groupby('manufacturer_id')['ltv'].mean())"
   ]
  },
  {
   "cell_type": "code",
   "execution_count": 49,
   "metadata": {
    "collapsed": true
   },
   "outputs": [],
   "source": [
    "data['mean_bra_dis'] = data['branch_id'].map(data.groupby('branch_id')['disbursed_amount'].mean())\n",
    "test_data['mean_bra_dis'] = test_data['branch_id'].map(test_data.groupby('branch_id')['disbursed_amount'].mean())"
   ]
  },
  {
   "cell_type": "code",
   "execution_count": 50,
   "metadata": {
    "collapsed": true
   },
   "outputs": [],
   "source": [
    "data['mean_bra_ltv'] = data['branch_id'].map(data.groupby('branch_id')['ltv'].mean())\n",
    "test_data['mean_bra_ltv'] = test_data['branch_id'].map(test_data.groupby('branch_id')['ltv'].mean())"
   ]
  },
  {
   "cell_type": "code",
   "execution_count": 52,
   "metadata": {
    "collapsed": true
   },
   "outputs": [],
   "source": [
    "data['mean_emp_dis'] = data['Employee_code_ID'].map(data.groupby('Employee_code_ID')['disbursed_amount'].mean())\n",
    "test_data['mean_emp_dis'] = test_data['Employee_code_ID'].map(test_data.groupby('Employee_code_ID')['disbursed_amount'].mean())"
   ]
  },
  {
   "cell_type": "code",
   "execution_count": 53,
   "metadata": {
    "collapsed": true
   },
   "outputs": [],
   "source": [
    "data['mean_emp_ltv'] = data['Employee_code_ID'].map(data.groupby('Employee_code_ID')['ltv'].mean())\n",
    "test_data['mean_emp_ltv'] = test_data['Employee_code_ID'].map(test_data.groupby('Employee_code_ID')['ltv'].mean())"
   ]
  },
  {
   "cell_type": "code",
   "execution_count": null,
   "metadata": {
    "collapsed": false
   },
   "outputs": [],
   "source": []
  },
  {
   "cell_type": "code",
   "execution_count": null,
   "metadata": {
    "collapsed": false
   },
   "outputs": [],
   "source": []
  },
  {
   "cell_type": "code",
   "execution_count": null,
   "metadata": {
    "collapsed": true
   },
   "outputs": [],
   "source": []
  },
  {
   "cell_type": "code",
   "execution_count": null,
   "metadata": {
    "collapsed": true
   },
   "outputs": [],
   "source": []
  },
  {
   "cell_type": "markdown",
   "metadata": {},
   "source": [
    "## building model"
   ]
  },
  {
   "cell_type": "code",
   "execution_count": 62,
   "metadata": {
    "collapsed": true
   },
   "outputs": [],
   "source": [
    "X = data.drop('loan_default', axis=1)\n",
    "y = data['loan_default']"
   ]
  },
  {
   "cell_type": "code",
   "execution_count": 69,
   "metadata": {
    "collapsed": true
   },
   "outputs": [],
   "source": [
    "X_train, X_test, y_train, y_test = train_test_split(X, y, test_size=0.33, random_state=17)"
   ]
  },
  {
   "cell_type": "code",
   "execution_count": 32,
   "metadata": {
    "collapsed": false
   },
   "outputs": [],
   "source": [
    "#rf = RandomForestClassifier(max_depth=15, n_estimators=400,max_features='auto',random_state=999,oob_score=True, n_jobs=-1)"
   ]
  },
  {
   "cell_type": "code",
   "execution_count": 33,
   "metadata": {
    "collapsed": false
   },
   "outputs": [],
   "source": [
    "##for i in range(5):\n",
    "   # xg= XGBClassifier(max_depth=10, learning_rate=0.01, n_estimators=200,n_jobs=-1, nthread=4, gamma=0.7, random_state=i,\n",
    "                  #scale_pos_weight=0.7,colsample_bylevel=0.7)"
   ]
  },
  {
   "cell_type": "code",
   "execution_count": 34,
   "metadata": {
    "collapsed": false
   },
   "outputs": [],
   "source": [
    "for i in range(20):\n",
    "    model = CatBoostClassifier(iterations=250, \n",
    "                               learning_rate=0.1, \n",
    "                               random_seed=i,\n",
    "                               logging_level='Silent',\n",
    "                               loss_function='Logloss',\n",
    "                               eval_metric='AUC',\n",
    "                               one_hot_max_size=5)   "
   ]
  },
  {
   "cell_type": "code",
   "execution_count": 25,
   "metadata": {
    "collapsed": true
   },
   "outputs": [],
   "source": [
    "from sklearn.ensemble import VotingClassifier"
   ]
  },
  {
   "cell_type": "code",
   "execution_count": 26,
   "metadata": {
    "collapsed": true
   },
   "outputs": [],
   "source": [
    "#model1 = VotingClassifier(estimators=[('rf', rf), ('xg', xg)], voting='soft')"
   ]
  },
  {
   "cell_type": "code",
   "execution_count": 70,
   "metadata": {
    "collapsed": false
   },
   "outputs": [
    {
     "name": "stderr",
     "output_type": "stream",
     "text": [
      "Warning: Overfitting detector is active, thus evaluation metric is calculated on every iteration. 'metric_period' is ignored for evaluation metric.\n"
     ]
    },
    {
     "name": "stdout",
     "output_type": "stream",
     "text": [
      "0:\ttest: 0.6066722\tbest: 0.6066722 (0)\ttotal: 3.79s\tremaining: 2h 6m 6s\n",
      "50:\ttest: 0.6440468\tbest: 0.6440468 (50)\ttotal: 1m 17s\tremaining: 49m 13s\n",
      "100:\ttest: 0.6513388\tbest: 0.6513388 (100)\ttotal: 2m 10s\tremaining: 40m 45s\n",
      "150:\ttest: 0.6558615\tbest: 0.6558615 (150)\ttotal: 2m 59s\tremaining: 36m 32s\n",
      "200:\ttest: 0.6590691\tbest: 0.6590691 (200)\ttotal: 3m 49s\tremaining: 34m 14s\n",
      "250:\ttest: 0.6609562\tbest: 0.6609562 (250)\ttotal: 4m 36s\tremaining: 32m 7s\n",
      "300:\ttest: 0.6626381\tbest: 0.6626381 (300)\ttotal: 5m 26s\tremaining: 30m 44s\n",
      "350:\ttest: 0.6636739\tbest: 0.6636739 (350)\ttotal: 6m 17s\tremaining: 29m 34s\n",
      "400:\ttest: 0.6647808\tbest: 0.6647808 (400)\ttotal: 7m\tremaining: 27m 56s\n",
      "450:\ttest: 0.6655598\tbest: 0.6655598 (450)\ttotal: 7m 46s\tremaining: 26m 41s\n",
      "500:\ttest: 0.6660911\tbest: 0.6660917 (499)\ttotal: 8m 33s\tremaining: 25m 36s\n",
      "550:\ttest: 0.6665745\tbest: 0.6665745 (550)\ttotal: 9m 22s\tremaining: 24m 38s\n",
      "600:\ttest: 0.6671876\tbest: 0.6671876 (600)\ttotal: 10m 15s\tremaining: 23m 51s\n",
      "650:\ttest: 0.6675722\tbest: 0.6675722 (650)\ttotal: 11m\tremaining: 22m 48s\n",
      "700:\ttest: 0.6681853\tbest: 0.6681922 (698)\ttotal: 11m 44s\tremaining: 21m 46s\n",
      "750:\ttest: 0.6686814\tbest: 0.6686814 (750)\ttotal: 12m 27s\tremaining: 20m 42s\n",
      "800:\ttest: 0.6690679\tbest: 0.6690679 (800)\ttotal: 13m 9s\tremaining: 19m 41s\n",
      "850:\ttest: 0.6692946\tbest: 0.6692946 (850)\ttotal: 13m 52s\tremaining: 18m 43s\n",
      "900:\ttest: 0.6695093\tbest: 0.6695093 (900)\ttotal: 14m 34s\tremaining: 17m 46s\n",
      "950:\ttest: 0.6696434\tbest: 0.6696434 (950)\ttotal: 15m 16s\tremaining: 16m 50s\n",
      "1000:\ttest: 0.6698320\tbest: 0.6698477 (989)\ttotal: 15m 58s\tremaining: 15m 56s\n",
      "1050:\ttest: 0.6700016\tbest: 0.6700043 (1046)\ttotal: 16m 39s\tremaining: 15m 2s\n",
      "1100:\ttest: 0.6701012\tbest: 0.6701012 (1100)\ttotal: 17m 21s\tremaining: 14m 10s\n",
      "1150:\ttest: 0.6701032\tbest: 0.6701244 (1129)\ttotal: 18m 3s\tremaining: 13m 19s\n",
      "1200:\ttest: 0.6701643\tbest: 0.6702009 (1181)\ttotal: 18m 46s\tremaining: 12m 29s\n",
      "Stopped by overfitting detector  (45 iterations wait)\n",
      "\n",
      "bestTest = 0.6702008733\n",
      "bestIteration = 1181\n",
      "\n",
      "Shrink model to first 1182 iterations.\n",
      "AUC: 0.670200873318\n"
     ]
    },
    {
     "data": {
      "image/png": "[encoded data removed]",
      "text/plain": [
       "<matplotlib.figure.Figure at 0x14c58565ef0>"
      ]
     },
     "metadata": {},
     "output_type": "display_data"
    }
   ],
   "source": [
    "cb_model = CatBoostClassifier(iterations=2000,\n",
    "                              learning_rate=0.02,\n",
    "                              depth=10,\n",
    "                              l2_leaf_reg=40,\n",
    "                              bootstrap_type='Bernoulli',\n",
    "                              subsample=0.7,\n",
    "                              scale_pos_weight=5,\n",
    "                              eval_metric='AUC',\n",
    "                              metric_period=50,\n",
    "                              od_type='Iter',\n",
    "                              od_wait=45,\n",
    "                              random_seed=17,\n",
    "                              allow_writing_files=False)\n",
    "cb_model.fit(X_train, y_train,\n",
    "             eval_set=(X_test, y_test),\n",
    "             use_best_model=True)\n",
    "\n",
    "fea_imp = pd.DataFrame({'imp': cb_model.feature_importances_, 'col': X.columns})\n",
    "fea_imp = fea_imp.sort_values(['imp', 'col'], ascending=[True, False]).iloc[-30:]\n",
    "_ = fea_imp.plot(kind='barh', x='col', y='imp', figsize=(20, 10))\n",
    "plt.savefig('catboost_feature_importance.png')             \n",
    "\n",
    "print('AUC:', roc_auc_score(y_test, cb_model.predict_proba(X_test)[:,1]))\n",
    "y_preds = cb_model.predict_proba(test_data)[:,1]"
   ]
  },
  {
   "cell_type": "code",
   "execution_count": null,
   "metadata": {
    "collapsed": true
   },
   "outputs": [],
   "source": []
  },
  {
   "cell_type": "code",
   "execution_count": null,
   "metadata": {
    "collapsed": false
   },
   "outputs": [],
   "source": [
    "%%time\n",
    "model.fit(X, y)"
   ]
  },
  {
   "cell_type": "code",
   "execution_count": null,
   "metadata": {
    "collapsed": false
   },
   "outputs": [],
   "source": [
    "print(model.score(X_train, y_train))\n",
    "print(model.score(X_test, y_test))"
   ]
  },
  {
   "cell_type": "code",
   "execution_count": null,
   "metadata": {
    "collapsed": true
   },
   "outputs": [],
   "source": [
    "from sklearn.metrics import roc_auc_score, accuracy_score, precision_score, confusion_matrix, auc, f1_score, classification_report"
   ]
  },
  {
   "cell_type": "code",
   "execution_count": null,
   "metadata": {
    "collapsed": true
   },
   "outputs": [],
   "source": [
    "pred = model.predict_proba(X_test)[:, 1]"
   ]
  },
  {
   "cell_type": "markdown",
   "metadata": {},
   "source": [
    "## predicting test set"
   ]
  },
  {
   "cell_type": "code",
   "execution_count": null,
   "metadata": {
    "collapsed": true
   },
   "outputs": [],
   "source": [
    "x_test = test_data"
   ]
  },
  {
   "cell_type": "code",
   "execution_count": null,
   "metadata": {
    "collapsed": false
   },
   "outputs": [],
   "source": [
    "test_set_predictions = model.predict_proba(x_test)[:, 1] "
   ]
  },
  {
   "cell_type": "code",
   "execution_count": 71,
   "metadata": {
    "collapsed": false
   },
   "outputs": [],
   "source": [
    "d = {'UniqueID':test_id, 'loan_default':y_preds} "
   ]
  },
  {
   "cell_type": "code",
   "execution_count": 72,
   "metadata": {
    "collapsed": true
   },
   "outputs": [],
   "source": [
    "test_set = pd.DataFrame(d)"
   ]
  },
  {
   "cell_type": "code",
   "execution_count": 73,
   "metadata": {
    "collapsed": false
   },
   "outputs": [
    {
     "data": {
      "text/html": [
       "<div>\n",
       "<table border=\"1\" class=\"dataframe\">\n",
       "  <thead>\n",
       "    <tr style=\"text-align: right;\">\n",
       "      <th></th>\n",
       "      <th>UniqueID</th>\n",
       "      <th>loan_default</th>\n",
       "    </tr>\n",
       "  </thead>\n",
       "  <tbody>\n",
       "    <tr>\n",
       "      <th>112387</th>\n",
       "      <td>755547</td>\n",
       "      <td>0.555011</td>\n",
       "    </tr>\n",
       "    <tr>\n",
       "      <th>112388</th>\n",
       "      <td>716994</td>\n",
       "      <td>0.601199</td>\n",
       "    </tr>\n",
       "    <tr>\n",
       "      <th>112389</th>\n",
       "      <td>709352</td>\n",
       "      <td>0.517476</td>\n",
       "    </tr>\n",
       "    <tr>\n",
       "      <th>112390</th>\n",
       "      <td>699795</td>\n",
       "      <td>0.570022</td>\n",
       "    </tr>\n",
       "    <tr>\n",
       "      <th>112391</th>\n",
       "      <td>755244</td>\n",
       "      <td>0.376300</td>\n",
       "    </tr>\n",
       "  </tbody>\n",
       "</table>\n",
       "</div>"
      ],
      "text/plain": [
       "        UniqueID  loan_default\n",
       "112387    755547      0.555011\n",
       "112388    716994      0.601199\n",
       "112389    709352      0.517476\n",
       "112390    699795      0.570022\n",
       "112391    755244      0.376300"
      ]
     },
     "execution_count": 73,
     "metadata": {},
     "output_type": "execute_result"
    }
   ],
   "source": [
    "test_set.tail()   "
   ]
  },
  {
   "cell_type": "code",
   "execution_count": 74,
   "metadata": {
    "collapsed": true
   },
   "outputs": [],
   "source": [
    "test_set.to_csv('d73.csv', index=False)"
   ]
  },
  {
   "cell_type": "code",
   "execution_count": null,
   "metadata": {
    "collapsed": true
   },
   "outputs": [],
   "source": []
  }
 ],
 "metadata": {
  "kernelspec": {
   "display_name": "Python 3",
   "language": "python",
   "name": "python3"
  },
  "language_info": {
   "codemirror_mode": {
    "name": "ipython",
    "version": 3
   },
   "file_extension": ".py",
   "mimetype": "text/x-python",
   "name": "python",
   "nbconvert_exporter": "python",
   "pygments_lexer": "ipython3",
   "version": "3.6.0"
  }
 },
 "nbformat": 4,
 "nbformat_minor": 2
}
